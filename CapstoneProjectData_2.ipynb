{
 "cells": [
  {
   "cell_type": "markdown",
   "metadata": {},
   "source": [
    "## __Toronto Data Science Capstone Project__\n",
    " "
   ]
  },
  {
   "cell_type": "markdown",
   "metadata": {},
   "source": [
    "The datasource I will use will be the Toronto postal codes wiki page, and I will scrape the table to collect the neighborhoods and postal codes. I will then use the FourSquare API to identify venues close to each neighborhood. See below for a detailed step by step overview of the process. "
   ]
  },
  {
   "cell_type": "code",
   "execution_count": 1,
   "metadata": {},
   "outputs": [
    {
     "name": "stdout",
     "output_type": "stream",
     "text": [
      "1:\"Postcode\"\n",
      "2:\"Borough\"\n",
      "3:\"Neighbourhood\n",
      "\"\n"
     ]
    }
   ],
   "source": [
    "#import necessary libriaries to webscrape and scrape the page \n",
    "\n",
    "import numpy as np\n",
    "import lxml.html as lh\n",
    "import requests\n",
    "import pandas as pd \n",
    "\n",
    "url='https://en.wikipedia.org/wiki/List_of_postal_codes_of_Canada:_M'\n",
    "page = requests.get(url)\n",
    "#Store the contents of the website under doc\n",
    "doc = lh.fromstring(page.content)\n",
    "#Parse data that are stored between <tr>..</tr> of HTML\n",
    "tr_elements = doc.xpath('//tr')\n",
    "\n",
    "\n",
    "tr_elements = doc.xpath('//tr')\n",
    "#Create empty list\n",
    "col=[]\n",
    "i=0\n",
    "#For each row, store each first element (header) and an empty list\n",
    "for t in tr_elements[0]:\n",
    "    i+=1\n",
    "    name=t.text_content()\n",
    "    print('%d:\"%s\"'%(i,name))\n",
    "    col.append((name,[]))"
   ]
  },
  {
   "cell_type": "markdown",
   "metadata": {},
   "source": [
    "From these data, I will load them into a dataframe. This will require a loop "
   ]
  },
  {
   "cell_type": "code",
   "execution_count": 2,
   "metadata": {},
   "outputs": [],
   "source": [
    "#Since out first row is the header, data is stored on the second row onwards\n",
    "for j in range(1,len(tr_elements)):\n",
    "    #T is our j'th row\n",
    "    T=tr_elements[j]\n",
    "    \n",
    "    #If row is not of size 3, the //tr data is not from our table \n",
    "    if len(T)!=3:\n",
    "        break\n",
    "    \n",
    "    #i is the index of our column\n",
    "    i=0\n",
    "    \n",
    "    #Iterate through each element of the row\n",
    "    for t in T.iterchildren():\n",
    "        data=t.text_content() \n",
    "        #Check if row is empty\n",
    "        if i>0:\n",
    "        #Convert any numerical value to integers\n",
    "            try:\n",
    "                data=int(data)\n",
    "            except:\n",
    "                pass\n",
    "        #Append the data to the empty list of the i'th column\n",
    "        col[i][1].append(data)\n",
    "        #Increment i for the next column\n",
    "        i+=1\n",
    "Dict={title:column for (title,column) in col}\n",
    "df=pd.DataFrame(Dict)"
   ]
  },
  {
   "cell_type": "markdown",
   "metadata": {},
   "source": [
    "Format and clean the data, group neighborhoods in the same postal code together "
   ]
  },
  {
   "cell_type": "code",
   "execution_count": 3,
   "metadata": {},
   "outputs": [],
   "source": [
    "df.rename(columns ={'Neighbourhood\\n':'Neighborhood','Postcode':'PostalCode'\n",
    "                          }, \n",
    "                 inplace=True)\n",
    "df.drop(df[df['Borough'] == 'Not assigned'].index, inplace=True)\n",
    "df['Neighborhood']=df['Neighborhood'].str.replace(\"\\n\", \"\")\n",
    "df_1 = df.groupby(['PostalCode', 'Borough'])['Neighborhood'].apply(', '.join).reset_index()"
   ]
  },
  {
   "cell_type": "markdown",
   "metadata": {},
   "source": [
    "This dataframe will now contain Postal code and Borough, with neighborhoods in the same postal code in one line. To leverage the FourSquare Location API, I need to add latitude and longitude coordinates to the dataset. I will then merge the two dataframes together"
   ]
  },
  {
   "cell_type": "code",
   "execution_count": 4,
   "metadata": {},
   "outputs": [],
   "source": [
    "coord = pd.read_csv('Geospatial_Coordinates.csv')\n",
    "coord.rename(columns ={'Postal Code':'PostalCode'\n",
    "                          }, \n",
    "                 inplace=True)\n",
    "df = pd.merge(df_1, coord, on='PostalCode')"
   ]
  },
  {
   "cell_type": "markdown",
   "metadata": {},
   "source": [
    "I only want to look at neighborhoods in Toronto, so I will only use Boroughs where Toronto in in the name. "
   ]
  },
  {
   "cell_type": "code",
   "execution_count": 5,
   "metadata": {},
   "outputs": [
    {
     "name": "stdout",
     "output_type": "stream",
     "text": [
      "(38, 5)\n"
     ]
    },
    {
     "data": {
      "text/html": [
       "<div>\n",
       "<style scoped>\n",
       "    .dataframe tbody tr th:only-of-type {\n",
       "        vertical-align: middle;\n",
       "    }\n",
       "\n",
       "    .dataframe tbody tr th {\n",
       "        vertical-align: top;\n",
       "    }\n",
       "\n",
       "    .dataframe thead th {\n",
       "        text-align: right;\n",
       "    }\n",
       "</style>\n",
       "<table border=\"1\" class=\"dataframe\">\n",
       "  <thead>\n",
       "    <tr style=\"text-align: right;\">\n",
       "      <th></th>\n",
       "      <th>PostalCode</th>\n",
       "      <th>Borough</th>\n",
       "      <th>Neighborhood</th>\n",
       "      <th>Latitude</th>\n",
       "      <th>Longitude</th>\n",
       "    </tr>\n",
       "  </thead>\n",
       "  <tbody>\n",
       "    <tr>\n",
       "      <th>0</th>\n",
       "      <td>M4E</td>\n",
       "      <td>East Toronto</td>\n",
       "      <td>The Beaches</td>\n",
       "      <td>43.676357</td>\n",
       "      <td>-79.293031</td>\n",
       "    </tr>\n",
       "    <tr>\n",
       "      <th>1</th>\n",
       "      <td>M4K</td>\n",
       "      <td>East Toronto</td>\n",
       "      <td>The Danforth West, Riverdale</td>\n",
       "      <td>43.679557</td>\n",
       "      <td>-79.352188</td>\n",
       "    </tr>\n",
       "    <tr>\n",
       "      <th>2</th>\n",
       "      <td>M4L</td>\n",
       "      <td>East Toronto</td>\n",
       "      <td>The Beaches West, India Bazaar</td>\n",
       "      <td>43.668999</td>\n",
       "      <td>-79.315572</td>\n",
       "    </tr>\n",
       "    <tr>\n",
       "      <th>3</th>\n",
       "      <td>M4M</td>\n",
       "      <td>East Toronto</td>\n",
       "      <td>Studio District</td>\n",
       "      <td>43.659526</td>\n",
       "      <td>-79.340923</td>\n",
       "    </tr>\n",
       "    <tr>\n",
       "      <th>4</th>\n",
       "      <td>M4N</td>\n",
       "      <td>Central Toronto</td>\n",
       "      <td>Lawrence Park</td>\n",
       "      <td>43.728020</td>\n",
       "      <td>-79.388790</td>\n",
       "    </tr>\n",
       "  </tbody>\n",
       "</table>\n",
       "</div>"
      ],
      "text/plain": [
       "  PostalCode          Borough                    Neighborhood   Latitude  \\\n",
       "0        M4E     East Toronto                     The Beaches  43.676357   \n",
       "1        M4K     East Toronto    The Danforth West, Riverdale  43.679557   \n",
       "2        M4L     East Toronto  The Beaches West, India Bazaar  43.668999   \n",
       "3        M4M     East Toronto                 Studio District  43.659526   \n",
       "4        M4N  Central Toronto                   Lawrence Park  43.728020   \n",
       "\n",
       "   Longitude  \n",
       "0 -79.293031  \n",
       "1 -79.352188  \n",
       "2 -79.315572  \n",
       "3 -79.340923  \n",
       "4 -79.388790  "
      ]
     },
     "execution_count": 5,
     "metadata": {},
     "output_type": "execute_result"
    }
   ],
   "source": [
    "df['Borough'].unique()\n",
    "toronto_boroughs = ['East Toronto', 'Central Toronto', 'Downtown Toronto', 'West Toronto']\n",
    "central_df = df[df['Borough'].isin(toronto_boroughs)].reset_index(drop=True)\n",
    "print(central_df.shape)\n",
    "central_df.head()"
   ]
  },
  {
   "cell_type": "markdown",
   "metadata": {},
   "source": [
    "I will now leverage the Foursquare API to match venues within these latitudes and longitudes to my dataset. "
   ]
  },
  {
   "cell_type": "code",
   "execution_count": 6,
   "metadata": {},
   "outputs": [],
   "source": [
    "#import necessary libraries \n",
    "import json \n",
    "\n",
    "from geopy.geocoders import Nominatim # convert an address into latitude and longitude values\n",
    "\n",
    "import requests # library to handle requests\n",
    "import matplotlib.cm as cm\n",
    "import matplotlib.colors as colors\n",
    "\n",
    "from sklearn.cluster import KMeans\n",
    "import folium # map rendering library\n",
    "import geopy"
   ]
  },
  {
   "cell_type": "markdown",
   "metadata": {},
   "source": [
    "declare variables for the API"
   ]
  },
  {
   "cell_type": "code",
   "execution_count": 7,
   "metadata": {},
   "outputs": [],
   "source": [
    "address = 'Toronto, ON'\n",
    "\n",
    "geolocator = Nominatim(user_agent=\"to_explorer\")\n",
    "location = geolocator.geocode(address)\n",
    "latitude = location.latitude\n",
    "longitude = location.longitude\n",
    "\n",
    "\n",
    "CLIENT_ID = 'EJF2T3C2DPZ4SXFOBWV1RMCYIEEDT13KS3R213TGTZ1ELUCS' # your Foursquare ID\n",
    "CLIENT_SECRET = 'OIGCO5H2A0W44AUJJDAGP2CM34LWGQZ2OPKQ3CPHLJTCDFI2' # your Foursquare Secret\n",
    "VERSION = '20180605' # Foursquare API version"
   ]
  },
  {
   "cell_type": "markdown",
   "metadata": {},
   "source": [
    "Get nearby venues by using a list and limiting to 100 venues nearby "
   ]
  },
  {
   "cell_type": "code",
   "execution_count": 8,
   "metadata": {},
   "outputs": [],
   "source": [
    "LIMIT = 100 # limit of number of venues returned by Foursquare API\n",
    "def getNearbyVenues(names, latitudes, longitudes, radius=100):\n",
    "    \n",
    "    venues_list=[]\n",
    "    for name, lat, lng in zip(names, latitudes, longitudes):\n",
    "        print(name)\n",
    "            \n",
    "        # create the API request URL\n",
    "        url = 'https://api.foursquare.com/v2/venues/explore?&client_id={}&client_secret={}&v={}&ll={},{}&radius={}&limit={}'.format(\n",
    "            CLIENT_ID, \n",
    "            CLIENT_SECRET, \n",
    "            VERSION, \n",
    "            lat, \n",
    "            lng, \n",
    "            radius, \n",
    "            LIMIT)\n",
    "            \n",
    "        # make the GET request\n",
    "        results = requests.get(url).json()[\"response\"]['groups'][0]['items']\n",
    "        \n",
    "        # return only relevant information for each nearby venue\n",
    "        venues_list.append([(\n",
    "            name, \n",
    "            lat, \n",
    "            lng, \n",
    "            v['venue']['name'], \n",
    "            v['venue']['location']['lat'], \n",
    "            v['venue']['location']['lng'],  \n",
    "            v['venue']['categories'][0]['name']) for v in results])\n",
    "\n",
    "    nearby_venues = pd.DataFrame([item for venue_list in venues_list for item in venue_list])\n",
    "    nearby_venues.columns = ['Neighborhood', \n",
    "                  'Neighborhood Latitude', \n",
    "                  'Neighborhood Longitude', \n",
    "                  'Venue', \n",
    "                  'Venue Latitude', \n",
    "                  'Venue Longitude', \n",
    "                  'Venue Category']\n",
    "    \n",
    "    return(nearby_venues)"
   ]
  },
  {
   "cell_type": "markdown",
   "metadata": {},
   "source": [
    "Now I am able to list all the nearby venues in each neighborhood. "
   ]
  },
  {
   "cell_type": "code",
   "execution_count": 9,
   "metadata": {},
   "outputs": [
    {
     "name": "stdout",
     "output_type": "stream",
     "text": [
      "The Beaches\n",
      "The Danforth West, Riverdale\n",
      "The Beaches West, India Bazaar\n",
      "Studio District\n",
      "Lawrence Park\n",
      "Davisville North\n",
      "North Toronto West\n",
      "Davisville\n",
      "Moore Park, Summerhill East\n",
      "Deer Park, Forest Hill SE, Rathnelly, South Hill, Summerhill West\n",
      "Rosedale\n",
      "Cabbagetown, St. James Town\n",
      "Church and Wellesley\n",
      "Harbourfront, Regent Park\n",
      "Ryerson, Garden District\n",
      "St. James Town\n",
      "Berczy Park\n",
      "Central Bay Street\n",
      "Adelaide, King, Richmond\n",
      "Harbourfront East, Toronto Islands, Union Station\n",
      "Design Exchange, Toronto Dominion Centre\n",
      "Commerce Court, Victoria Hotel\n",
      "Roselawn\n",
      "Forest Hill North, Forest Hill West\n",
      "The Annex, North Midtown, Yorkville\n",
      "Harbord, University of Toronto\n",
      "Chinatown, Grange Park, Kensington Market\n",
      "CN Tower, Bathurst Quay, Island airport, Harbourfront West, King and Spadina, Railway Lands, South Niagara\n",
      "Stn A PO Boxes 25 The Esplanade\n",
      "First Canadian Place, Underground city\n",
      "Christie\n",
      "Dovercourt Village, Dufferin\n",
      "Little Portugal, Trinity\n",
      "Brockton, Exhibition Place, Parkdale Village\n",
      "High Park, The Junction South\n",
      "Parkdale, Roncesvalles\n",
      "Runnymede, Swansea\n",
      "Business Reply Mail Processing Centre 969 Eastern\n"
     ]
    }
   ],
   "source": [
    "toronto_venues = getNearbyVenues(names=central_df['Neighborhood'],\n",
    "                                   latitudes=central_df['Latitude'],\n",
    "                                   longitudes=central_df['Longitude']\n",
    "                                  )\n"
   ]
  },
  {
   "cell_type": "markdown",
   "metadata": {},
   "source": [
    "Next I will create dummy variables for each of the venue names in the neighborhoods so I am able to cluster the neighborhoods later. I will also group by neighborhood."
   ]
  },
  {
   "cell_type": "code",
   "execution_count": 10,
   "metadata": {},
   "outputs": [],
   "source": [
    "# one hot encoding\n",
    "toronto_onehot = pd.get_dummies(toronto_venues[['Venue Category']], prefix=\"\", prefix_sep=\"\")\n",
    "\n",
    "# add neighborhood column back to dataframe\n",
    "toronto_onehot['Neighborhood'] = toronto_venues['Neighborhood'] \n",
    "Neighborhood = toronto_onehot['Neighborhood']\n",
    "# move neighborhood column to the first column\n",
    "toronto_onehot.drop(labels=['Neighborhood'], axis=1,inplace = True)\n",
    "toronto_onehot.insert(0, 'Neighborhood', Neighborhood)\n",
    "\n",
    "\n",
    "toronto_grouped = toronto_onehot.groupby('Neighborhood').mean().reset_index()"
   ]
  },
  {
   "cell_type": "markdown",
   "metadata": {},
   "source": [
    "Now I will find the most common categories in each neighborhood by writing a function "
   ]
  },
  {
   "cell_type": "code",
   "execution_count": 11,
   "metadata": {},
   "outputs": [],
   "source": [
    "def return_most_common_venues(row, num_top_venues):\n",
    "    row_categories = row.iloc[1:]\n",
    "    row_categories_sorted = row_categories.sort_values(ascending=False)\n",
    "    \n",
    "    return row_categories_sorted.index.values[0:num_top_venues]"
   ]
  },
  {
   "cell_type": "code",
   "execution_count": 12,
   "metadata": {},
   "outputs": [
    {
     "data": {
      "text/html": [
       "<div>\n",
       "<style scoped>\n",
       "    .dataframe tbody tr th:only-of-type {\n",
       "        vertical-align: middle;\n",
       "    }\n",
       "\n",
       "    .dataframe tbody tr th {\n",
       "        vertical-align: top;\n",
       "    }\n",
       "\n",
       "    .dataframe thead th {\n",
       "        text-align: right;\n",
       "    }\n",
       "</style>\n",
       "<table border=\"1\" class=\"dataframe\">\n",
       "  <thead>\n",
       "    <tr style=\"text-align: right;\">\n",
       "      <th></th>\n",
       "      <th>Neighborhood</th>\n",
       "      <th>1st Most Common Venue</th>\n",
       "      <th>2nd Most Common Venue</th>\n",
       "      <th>3rd Most Common Venue</th>\n",
       "      <th>4th Most Common Venue</th>\n",
       "      <th>5th Most Common Venue</th>\n",
       "      <th>6th Most Common Venue</th>\n",
       "      <th>7th Most Common Venue</th>\n",
       "      <th>8th Most Common Venue</th>\n",
       "      <th>9th Most Common Venue</th>\n",
       "      <th>10th Most Common Venue</th>\n",
       "    </tr>\n",
       "  </thead>\n",
       "  <tbody>\n",
       "    <tr>\n",
       "      <th>0</th>\n",
       "      <td>Adelaide, King, Richmond</td>\n",
       "      <td>Greek Restaurant</td>\n",
       "      <td>Sushi Restaurant</td>\n",
       "      <td>Concert Hall</td>\n",
       "      <td>Japanese Restaurant</td>\n",
       "      <td>Steakhouse</td>\n",
       "      <td>Bar</td>\n",
       "      <td>Coffee Shop</td>\n",
       "      <td>Tea Room</td>\n",
       "      <td>Food Court</td>\n",
       "      <td>Vegetarian / Vegan Restaurant</td>\n",
       "    </tr>\n",
       "    <tr>\n",
       "      <th>1</th>\n",
       "      <td>CN Tower, Bathurst Quay, Island airport, Harbo...</td>\n",
       "      <td>Performing Arts Venue</td>\n",
       "      <td>Yoga Studio</td>\n",
       "      <td>Gym</td>\n",
       "      <td>Gluten-free Restaurant</td>\n",
       "      <td>Gastropub</td>\n",
       "      <td>Garden</td>\n",
       "      <td>Food Court</td>\n",
       "      <td>Fast Food Restaurant</td>\n",
       "      <td>Farmers Market</td>\n",
       "      <td>Dessert Shop</td>\n",
       "    </tr>\n",
       "    <tr>\n",
       "      <th>2</th>\n",
       "      <td>Cabbagetown, St. James Town</td>\n",
       "      <td>Italian Restaurant</td>\n",
       "      <td>Yoga Studio</td>\n",
       "      <td>Gym</td>\n",
       "      <td>Gluten-free Restaurant</td>\n",
       "      <td>Gastropub</td>\n",
       "      <td>Garden</td>\n",
       "      <td>Food Court</td>\n",
       "      <td>Fast Food Restaurant</td>\n",
       "      <td>Farmers Market</td>\n",
       "      <td>Dessert Shop</td>\n",
       "    </tr>\n",
       "    <tr>\n",
       "      <th>3</th>\n",
       "      <td>Central Bay Street</td>\n",
       "      <td>Coffee Shop</td>\n",
       "      <td>Pharmacy</td>\n",
       "      <td>Sandwich Place</td>\n",
       "      <td>Yoga Studio</td>\n",
       "      <td>Cocktail Bar</td>\n",
       "      <td>Gastropub</td>\n",
       "      <td>Garden</td>\n",
       "      <td>Food Court</td>\n",
       "      <td>Fast Food Restaurant</td>\n",
       "      <td>Farmers Market</td>\n",
       "    </tr>\n",
       "    <tr>\n",
       "      <th>4</th>\n",
       "      <td>Chinatown, Grange Park, Kensington Market</td>\n",
       "      <td>Cocktail Bar</td>\n",
       "      <td>Bistro</td>\n",
       "      <td>Liquor Store</td>\n",
       "      <td>Farmers Market</td>\n",
       "      <td>Café</td>\n",
       "      <td>Coffee Shop</td>\n",
       "      <td>Gluten-free Restaurant</td>\n",
       "      <td>Gastropub</td>\n",
       "      <td>Garden</td>\n",
       "      <td>Food Court</td>\n",
       "    </tr>\n",
       "  </tbody>\n",
       "</table>\n",
       "</div>"
      ],
      "text/plain": [
       "                                        Neighborhood  1st Most Common Venue  \\\n",
       "0                           Adelaide, King, Richmond       Greek Restaurant   \n",
       "1  CN Tower, Bathurst Quay, Island airport, Harbo...  Performing Arts Venue   \n",
       "2                        Cabbagetown, St. James Town     Italian Restaurant   \n",
       "3                                 Central Bay Street            Coffee Shop   \n",
       "4          Chinatown, Grange Park, Kensington Market           Cocktail Bar   \n",
       "\n",
       "  2nd Most Common Venue 3rd Most Common Venue   4th Most Common Venue  \\\n",
       "0      Sushi Restaurant          Concert Hall     Japanese Restaurant   \n",
       "1           Yoga Studio                   Gym  Gluten-free Restaurant   \n",
       "2           Yoga Studio                   Gym  Gluten-free Restaurant   \n",
       "3              Pharmacy        Sandwich Place             Yoga Studio   \n",
       "4                Bistro          Liquor Store          Farmers Market   \n",
       "\n",
       "  5th Most Common Venue 6th Most Common Venue   7th Most Common Venue  \\\n",
       "0            Steakhouse                   Bar             Coffee Shop   \n",
       "1             Gastropub                Garden              Food Court   \n",
       "2             Gastropub                Garden              Food Court   \n",
       "3          Cocktail Bar             Gastropub                  Garden   \n",
       "4                  Café           Coffee Shop  Gluten-free Restaurant   \n",
       "\n",
       "  8th Most Common Venue 9th Most Common Venue         10th Most Common Venue  \n",
       "0              Tea Room            Food Court  Vegetarian / Vegan Restaurant  \n",
       "1  Fast Food Restaurant        Farmers Market                   Dessert Shop  \n",
       "2  Fast Food Restaurant        Farmers Market                   Dessert Shop  \n",
       "3            Food Court  Fast Food Restaurant                 Farmers Market  \n",
       "4             Gastropub                Garden                     Food Court  "
      ]
     },
     "execution_count": 12,
     "metadata": {},
     "output_type": "execute_result"
    }
   ],
   "source": [
    "num_top_venues = 10\n",
    "indicators = ['st', 'nd', 'rd']\n",
    "\n",
    "# create columns according to number of top venues\n",
    "columns = ['Neighborhood']\n",
    "for ind in np.arange(num_top_venues):\n",
    "    try:\n",
    "        columns.append('{}{} Most Common Venue'.format(ind+1, indicators[ind]))\n",
    "    except:\n",
    "        columns.append('{}th Most Common Venue'.format(ind+1))\n",
    "\n",
    "# create a new dataframe\n",
    "neighborhoods_venues_sorted = pd.DataFrame(columns=columns)\n",
    "neighborhoods_venues_sorted['Neighborhood'] = toronto_grouped['Neighborhood']\n",
    "\n",
    "for ind in np.arange(toronto_grouped.shape[0]):\n",
    "    neighborhoods_venues_sorted.iloc[ind, 1:] = return_most_common_venues(toronto_grouped.iloc[ind, :], num_top_venues)\n",
    "\n",
    "neighborhoods_venues_sorted.head()"
   ]
  },
  {
   "cell_type": "markdown",
   "metadata": {},
   "source": [
    "__I will then be able to leverage these data for k-means clustering and analysis to determine neighborhoods are closest to the venues the store owner wants.__"
   ]
  },
  {
   "cell_type": "code",
   "execution_count": null,
   "metadata": {},
   "outputs": [],
   "source": []
  }
 ],
 "metadata": {
  "kernelspec": {
   "display_name": "Python 3",
   "language": "python",
   "name": "python3"
  },
  "language_info": {
   "codemirror_mode": {
    "name": "ipython",
    "version": 3
   },
   "file_extension": ".py",
   "mimetype": "text/x-python",
   "name": "python",
   "nbconvert_exporter": "python",
   "pygments_lexer": "ipython3",
   "version": "3.7.1"
  }
 },
 "nbformat": 4,
 "nbformat_minor": 2
}
